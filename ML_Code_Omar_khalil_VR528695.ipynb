{
 "cells": [
  {
   "cell_type": "markdown",
   "metadata": {},
   "source": [
    "# Evaluating Regression Models for Student Grade Prediction"
   ]
  },
  {
   "cell_type": "markdown",
   "metadata": {},
   "source": [
    "**Download the dataset**"
   ]
  },
  {
   "cell_type": "code",
   "execution_count": 1,
   "metadata": {},
   "outputs": [
    {
     "name": "stdout",
     "output_type": "stream",
     "text": [
      "Warning: Looks like you're using an outdated `kagglehub` version (installed: 0.3.6), please consider upgrading to the latest version (0.3.8).\n",
      "Path to dataset files: C:\\Users\\theki\\.cache\\kagglehub\\datasets\\stealthtechnologies\\predict-student-performance-dataset\\versions\\1\n"
     ]
    }
   ],
   "source": [
    "import kagglehub\n",
    "# Download latest version\n",
    "path = kagglehub.dataset_download(\"stealthtechnologies/predict-student-performance-dataset\")\n",
    "\n",
    "print(\"Path to dataset files:\", path)"
   ]
  },
  {
   "cell_type": "markdown",
   "metadata": {},
   "source": [
    "**reading the dataset into a panda dataframe**"
   ]
  },
  {
   "cell_type": "code",
   "execution_count": 2,
   "metadata": {},
   "outputs": [
    {
     "data": {
      "text/html": [
       "<div>\n",
       "<style scoped>\n",
       "    .dataframe tbody tr th:only-of-type {\n",
       "        vertical-align: middle;\n",
       "    }\n",
       "\n",
       "    .dataframe tbody tr th {\n",
       "        vertical-align: top;\n",
       "    }\n",
       "\n",
       "    .dataframe thead th {\n",
       "        text-align: right;\n",
       "    }\n",
       "</style>\n",
       "<table border=\"1\" class=\"dataframe\">\n",
       "  <thead>\n",
       "    <tr style=\"text-align: right;\">\n",
       "      <th></th>\n",
       "      <th>Socioeconomic Score</th>\n",
       "      <th>Study Hours</th>\n",
       "      <th>Sleep Hours</th>\n",
       "      <th>Attendance (%)</th>\n",
       "      <th>Grades</th>\n",
       "    </tr>\n",
       "  </thead>\n",
       "  <tbody>\n",
       "    <tr>\n",
       "      <th>0</th>\n",
       "      <td>0.95822</td>\n",
       "      <td>3.4</td>\n",
       "      <td>8.2</td>\n",
       "      <td>53.0</td>\n",
       "      <td>47.0</td>\n",
       "    </tr>\n",
       "    <tr>\n",
       "      <th>1</th>\n",
       "      <td>0.85566</td>\n",
       "      <td>3.2</td>\n",
       "      <td>5.9</td>\n",
       "      <td>55.0</td>\n",
       "      <td>35.0</td>\n",
       "    </tr>\n",
       "    <tr>\n",
       "      <th>2</th>\n",
       "      <td>0.68025</td>\n",
       "      <td>3.2</td>\n",
       "      <td>9.3</td>\n",
       "      <td>41.0</td>\n",
       "      <td>32.0</td>\n",
       "    </tr>\n",
       "    <tr>\n",
       "      <th>3</th>\n",
       "      <td>0.25936</td>\n",
       "      <td>3.2</td>\n",
       "      <td>8.2</td>\n",
       "      <td>47.0</td>\n",
       "      <td>34.0</td>\n",
       "    </tr>\n",
       "    <tr>\n",
       "      <th>4</th>\n",
       "      <td>0.60447</td>\n",
       "      <td>3.8</td>\n",
       "      <td>10.0</td>\n",
       "      <td>75.0</td>\n",
       "      <td>33.0</td>\n",
       "    </tr>\n",
       "    <tr>\n",
       "      <th>5</th>\n",
       "      <td>0.98320</td>\n",
       "      <td>3.4</td>\n",
       "      <td>9.0</td>\n",
       "      <td>47.0</td>\n",
       "      <td>51.0</td>\n",
       "    </tr>\n",
       "    <tr>\n",
       "      <th>6</th>\n",
       "      <td>0.56648</td>\n",
       "      <td>7.9</td>\n",
       "      <td>8.1</td>\n",
       "      <td>63.0</td>\n",
       "      <td>54.0</td>\n",
       "    </tr>\n",
       "    <tr>\n",
       "      <th>7</th>\n",
       "      <td>0.93487</td>\n",
       "      <td>1.4</td>\n",
       "      <td>8.0</td>\n",
       "      <td>47.0</td>\n",
       "      <td>34.0</td>\n",
       "    </tr>\n",
       "    <tr>\n",
       "      <th>8</th>\n",
       "      <td>0.46660</td>\n",
       "      <td>5.4</td>\n",
       "      <td>8.8</td>\n",
       "      <td>67.0</td>\n",
       "      <td>39.0</td>\n",
       "    </tr>\n",
       "    <tr>\n",
       "      <th>9</th>\n",
       "      <td>0.62130</td>\n",
       "      <td>1.4</td>\n",
       "      <td>9.6</td>\n",
       "      <td>42.0</td>\n",
       "      <td>34.0</td>\n",
       "    </tr>\n",
       "    <tr>\n",
       "      <th>10</th>\n",
       "      <td>0.34712</td>\n",
       "      <td>3.8</td>\n",
       "      <td>7.3</td>\n",
       "      <td>61.0</td>\n",
       "      <td>35.0</td>\n",
       "    </tr>\n",
       "    <tr>\n",
       "      <th>11</th>\n",
       "      <td>0.34816</td>\n",
       "      <td>9.1</td>\n",
       "      <td>7.7</td>\n",
       "      <td>80.0</td>\n",
       "      <td>60.0</td>\n",
       "    </tr>\n",
       "    <tr>\n",
       "      <th>12</th>\n",
       "      <td>0.81689</td>\n",
       "      <td>1.1</td>\n",
       "      <td>8.9</td>\n",
       "      <td>43.0</td>\n",
       "      <td>34.0</td>\n",
       "    </tr>\n",
       "    <tr>\n",
       "      <th>13</th>\n",
       "      <td>0.35940</td>\n",
       "      <td>3.7</td>\n",
       "      <td>8.0</td>\n",
       "      <td>55.0</td>\n",
       "      <td>35.0</td>\n",
       "    </tr>\n",
       "    <tr>\n",
       "      <th>14</th>\n",
       "      <td>0.97654</td>\n",
       "      <td>3.7</td>\n",
       "      <td>9.9</td>\n",
       "      <td>51.0</td>\n",
       "      <td>51.0</td>\n",
       "    </tr>\n",
       "    <tr>\n",
       "      <th>15</th>\n",
       "      <td>0.42548</td>\n",
       "      <td>3.9</td>\n",
       "      <td>9.3</td>\n",
       "      <td>68.0</td>\n",
       "      <td>33.0</td>\n",
       "    </tr>\n",
       "    <tr>\n",
       "      <th>16</th>\n",
       "      <td>0.64124</td>\n",
       "      <td>2.9</td>\n",
       "      <td>5.7</td>\n",
       "      <td>60.0</td>\n",
       "      <td>35.0</td>\n",
       "    </tr>\n",
       "    <tr>\n",
       "      <th>17</th>\n",
       "      <td>0.64898</td>\n",
       "      <td>4.6</td>\n",
       "      <td>5.4</td>\n",
       "      <td>74.0</td>\n",
       "      <td>34.0</td>\n",
       "    </tr>\n",
       "    <tr>\n",
       "      <th>18</th>\n",
       "      <td>0.92323</td>\n",
       "      <td>3.9</td>\n",
       "      <td>9.8</td>\n",
       "      <td>69.0</td>\n",
       "      <td>46.0</td>\n",
       "    </tr>\n",
       "    <tr>\n",
       "      <th>19</th>\n",
       "      <td>0.87614</td>\n",
       "      <td>3.5</td>\n",
       "      <td>8.3</td>\n",
       "      <td>55.0</td>\n",
       "      <td>39.0</td>\n",
       "    </tr>\n",
       "  </tbody>\n",
       "</table>\n",
       "</div>"
      ],
      "text/plain": [
       "    Socioeconomic Score  Study Hours  Sleep Hours  Attendance (%)  Grades\n",
       "0               0.95822          3.4          8.2            53.0    47.0\n",
       "1               0.85566          3.2          5.9            55.0    35.0\n",
       "2               0.68025          3.2          9.3            41.0    32.0\n",
       "3               0.25936          3.2          8.2            47.0    34.0\n",
       "4               0.60447          3.8         10.0            75.0    33.0\n",
       "5               0.98320          3.4          9.0            47.0    51.0\n",
       "6               0.56648          7.9          8.1            63.0    54.0\n",
       "7               0.93487          1.4          8.0            47.0    34.0\n",
       "8               0.46660          5.4          8.8            67.0    39.0\n",
       "9               0.62130          1.4          9.6            42.0    34.0\n",
       "10              0.34712          3.8          7.3            61.0    35.0\n",
       "11              0.34816          9.1          7.7            80.0    60.0\n",
       "12              0.81689          1.1          8.9            43.0    34.0\n",
       "13              0.35940          3.7          8.0            55.0    35.0\n",
       "14              0.97654          3.7          9.9            51.0    51.0\n",
       "15              0.42548          3.9          9.3            68.0    33.0\n",
       "16              0.64124          2.9          5.7            60.0    35.0\n",
       "17              0.64898          4.6          5.4            74.0    34.0\n",
       "18              0.92323          3.9          9.8            69.0    46.0\n",
       "19              0.87614          3.5          8.3            55.0    39.0"
      ]
     },
     "execution_count": 2,
     "metadata": {},
     "output_type": "execute_result"
    }
   ],
   "source": [
    "import pandas as pd\n",
    "import sklearn\n",
    "\n",
    "student_performance_dataset=pd.read_csv(path+'\\\\data.csv')\n",
    "student_performance_dataset.head(20)\n"
   ]
  },
  {
   "cell_type": "code",
   "execution_count": null,
   "metadata": {},
   "outputs": [
    {
     "data": {
      "text/html": [
       "<div>\n",
       "<style scoped>\n",
       "    .dataframe tbody tr th:only-of-type {\n",
       "        vertical-align: middle;\n",
       "    }\n",
       "\n",
       "    .dataframe tbody tr th {\n",
       "        vertical-align: top;\n",
       "    }\n",
       "\n",
       "    .dataframe thead th {\n",
       "        text-align: right;\n",
       "    }\n",
       "</style>\n",
       "<table border=\"1\" class=\"dataframe\">\n",
       "  <thead>\n",
       "    <tr style=\"text-align: right;\">\n",
       "      <th></th>\n",
       "      <th>Socioeconomic Score</th>\n",
       "      <th>Study Hours</th>\n",
       "      <th>Sleep Hours</th>\n",
       "      <th>Attendance (%)</th>\n",
       "      <th>Grades</th>\n",
       "    </tr>\n",
       "  </thead>\n",
       "  <tbody>\n",
       "    <tr>\n",
       "      <th>count</th>\n",
       "      <td>1388.000000</td>\n",
       "      <td>1388.000000</td>\n",
       "      <td>1388.000000</td>\n",
       "      <td>1388.000000</td>\n",
       "      <td>1388.000000</td>\n",
       "    </tr>\n",
       "    <tr>\n",
       "      <th>mean</th>\n",
       "      <td>0.552274</td>\n",
       "      <td>4.560807</td>\n",
       "      <td>8.047262</td>\n",
       "      <td>58.536023</td>\n",
       "      <td>40.691643</td>\n",
       "    </tr>\n",
       "    <tr>\n",
       "      <th>std</th>\n",
       "      <td>0.261272</td>\n",
       "      <td>1.897581</td>\n",
       "      <td>1.370700</td>\n",
       "      <td>11.675287</td>\n",
       "      <td>9.467358</td>\n",
       "    </tr>\n",
       "    <tr>\n",
       "      <th>min</th>\n",
       "      <td>0.101280</td>\n",
       "      <td>0.800000</td>\n",
       "      <td>4.800000</td>\n",
       "      <td>40.000000</td>\n",
       "      <td>32.000000</td>\n",
       "    </tr>\n",
       "    <tr>\n",
       "      <th>25%</th>\n",
       "      <td>0.322118</td>\n",
       "      <td>3.475000</td>\n",
       "      <td>7.000000</td>\n",
       "      <td>49.000000</td>\n",
       "      <td>34.000000</td>\n",
       "    </tr>\n",
       "    <tr>\n",
       "      <th>50%</th>\n",
       "      <td>0.545945</td>\n",
       "      <td>3.900000</td>\n",
       "      <td>8.400000</td>\n",
       "      <td>57.000000</td>\n",
       "      <td>35.000000</td>\n",
       "    </tr>\n",
       "    <tr>\n",
       "      <th>75%</th>\n",
       "      <td>0.789610</td>\n",
       "      <td>5.900000</td>\n",
       "      <td>9.100000</td>\n",
       "      <td>66.000000</td>\n",
       "      <td>47.000000</td>\n",
       "    </tr>\n",
       "    <tr>\n",
       "      <th>max</th>\n",
       "      <td>0.999820</td>\n",
       "      <td>10.000000</td>\n",
       "      <td>10.000000</td>\n",
       "      <td>100.000000</td>\n",
       "      <td>91.000000</td>\n",
       "    </tr>\n",
       "  </tbody>\n",
       "</table>\n",
       "</div>"
      ],
      "text/plain": [
       "       Socioeconomic Score  Study Hours  Sleep Hours  Attendance (%)  \\\n",
       "count          1388.000000  1388.000000  1388.000000     1388.000000   \n",
       "mean              0.552274     4.560807     8.047262       58.536023   \n",
       "std               0.261272     1.897581     1.370700       11.675287   \n",
       "min               0.101280     0.800000     4.800000       40.000000   \n",
       "25%               0.322118     3.475000     7.000000       49.000000   \n",
       "50%               0.545945     3.900000     8.400000       57.000000   \n",
       "75%               0.789610     5.900000     9.100000       66.000000   \n",
       "max               0.999820    10.000000    10.000000      100.000000   \n",
       "\n",
       "            Grades  \n",
       "count  1388.000000  \n",
       "mean     40.691643  \n",
       "std       9.467358  \n",
       "min      32.000000  \n",
       "25%      34.000000  \n",
       "50%      35.000000  \n",
       "75%      47.000000  \n",
       "max      91.000000  "
      ]
     },
     "execution_count": 3,
     "metadata": {},
     "output_type": "execute_result"
    }
   ],
   "source": [
    "#characteristics of the dataset\n",
    "student_performance_dataset.describe()\n"
   ]
  },
  {
   "cell_type": "markdown",
   "metadata": {},
   "source": [
    "**Assigning the features and target**"
   ]
  },
  {
   "cell_type": "code",
   "execution_count": null,
   "metadata": {},
   "outputs": [],
   "source": [
    "#assigning features and target\n",
    "X=student_performance_dataset.drop(columns=['Grades'])\n",
    "y=student_performance_dataset['Grades']"
   ]
  },
  {
   "cell_type": "markdown",
   "metadata": {},
   "source": [
    "**Ridge regression and linear regression**"
   ]
  },
  {
   "cell_type": "code",
   "execution_count": null,
   "metadata": {},
   "outputs": [
    {
     "name": "stdout",
     "output_type": "stream",
     "text": [
      "                                   Linear Regression\n",
      "0  {'MAE': 3.3575324043623493, 'RMSE': 4.27885573...\n",
      "                                    Ridge Regression\n",
      "0  {'MAE_1': 3.513323777928262, 'RMSE_1': 4.32410...\n",
      "1  {'MAE_2': 3.5123039393030666, 'RMSE_2': 4.3230...\n",
      "2  {'MAE_3': 3.5112866525585793, 'RMSE_3': 4.3219...\n",
      "3  {'MAE_4': 3.5103156151486976, 'RMSE_4': 4.3208...\n"
     ]
    }
   ],
   "source": [
    "from sklearn.metrics import mean_squared_error, mean_absolute_error, r2_score, explained_variance_score\n",
    "from sklearn.metrics import mean_squared_error as mse_func\n",
    "from sklearn.linear_model import LinearRegression\n",
    "import numpy as np\n",
    "import pandas as pd\n",
    "from sklearn import datasets\n",
    "from sklearn.model_selection import train_test_split\n",
    "from sklearn.linear_model import LinearRegression, Ridge\n",
    "from sklearn.preprocessing import PolynomialFeatures\n",
    "from sklearn.metrics import mean_absolute_error, mean_squared_error, r2_score, explained_variance_score\n",
    "from sklearn.preprocessing import StandardScaler\n",
    "\n",
    "results = {\n",
    "    'Linear Regression': [],\n",
    "}\n",
    "\n",
    "# Split the dataset into training and testing sets (80% train, 20% test)\n",
    "X_train, X_test, y_train, y_test = train_test_split(X, y, test_size=0.2, random_state=20)\n",
    "\n",
    "# Train Linear Regression model\n",
    "linear_model = LinearRegression()\n",
    "linear_model.fit(X_train, y_train)\n",
    "y_pred_linear = linear_model.predict(X_test)\n",
    "\n",
    "# Evaluate Linear Regression model\n",
    "results['Linear Regression'].append({\n",
    "    'MAE': mean_absolute_error(y_test, y_pred_linear),\n",
    "    'RMSE': np.sqrt(mean_squared_error(y_test, y_pred_linear)),\n",
    "\n",
    "})\n",
    "\n",
    "resultsDF=pd.DataFrame(results)\n",
    "print(resultsDF)\n",
    "\n",
    "\n",
    "results={\n",
    "    'Ridge Regression': []\n",
    "}\n",
    "\n",
    "#normalizing the features for ridge regression\n",
    "scaler = StandardScaler()\n",
    "X_train_scaled = scaler.fit_transform(X_train)\n",
    "X_test_scaled=scaler.fit_transform(X_test)\n",
    "\n",
    "#trying different alpha values\n",
    "for i in np.arange(1,5 , 1):\n",
    "    # Train Ridge Regression model\n",
    "    ridge_model = Ridge(alpha=i)  \n",
    "    ridge_model.fit(X_train_scaled, y_train)\n",
    "    y_pred_ridge = ridge_model.predict(X_test_scaled)\n",
    "\n",
    "    # Evaluate Ridge Regression model\n",
    "    results['Ridge Regression'].append({\n",
    "    f'MAE_{i}': mean_absolute_error(y_test, y_pred_ridge),\n",
    "    f'RMSE_{i}': np.sqrt(mean_squared_error(y_test, y_pred_ridge))\n",
    "})\n",
    "\n",
    "# Convert results to DataFrames for easier analysis\n",
    "resultsDF=pd.DataFrame(results)\n",
    "#resultsDF=resultsDF.T\n",
    "print(resultsDF)\n",
    " "
   ]
  },
  {
   "cell_type": "code",
   "execution_count": 6,
   "metadata": {},
   "outputs": [
    {
     "name": "stdout",
     "output_type": "stream",
     "text": [
      "          0         1         2         3\n",
      "0  1.000000  0.003811  0.005276 -0.017665\n",
      "1  0.003811  1.000000 -0.155389  0.467076\n",
      "2  0.005276 -0.155389  1.000000 -0.091771\n",
      "3 -0.017665  0.467076 -0.091771  1.000000\n"
     ]
    }
   ],
   "source": [
    "#check correlation between features\n",
    "print(pd.DataFrame(X_train_scaled).corr())"
   ]
  },
  {
   "cell_type": "code",
   "execution_count": 7,
   "metadata": {},
   "outputs": [
    {
     "name": "stdout",
     "output_type": "stream",
     "text": [
      "0    0.030308\n",
      "1    0.014544\n",
      "2    0.012408\n",
      "3    0.006617\n",
      "dtype: float64\n"
     ]
    }
   ],
   "source": [
    "#check correlation between features and target\n",
    "\n",
    "print(pd.DataFrame(X_train_scaled).corrwith(pd.Series(y_train)))"
   ]
  },
  {
   "cell_type": "markdown",
   "metadata": {},
   "source": [
    "**Polynomial regression**"
   ]
  },
  {
   "cell_type": "code",
   "execution_count": 8,
   "metadata": {},
   "outputs": [
    {
     "data": {
      "text/plain": [
       "{'MAE': 1.3244508681486051, 'MSE': 2.93688173448457}"
      ]
     },
     "execution_count": 8,
     "metadata": {},
     "output_type": "execute_result"
    }
   ],
   "source": [
    "# Train Polynomial Regression model\n",
    "polynomial_features = PolynomialFeatures(degree=3)  # Change degree as needed\n",
    "X_train_poly = polynomial_features.fit_transform(X_train)\n",
    "X_test_poly = polynomial_features.transform(X_test)\n",
    "\n",
    "polynomial_model = LinearRegression()\n",
    "polynomial_model.fit(X_train_poly, y_train)\n",
    "y_pred_poly = polynomial_model.predict(X_test_poly)\n",
    "\n",
    "# Evaluate Polynomial Regression model\n",
    "resultsPOLY=({\n",
    "    'MAE': mean_absolute_error(y_test, y_pred_poly),\n",
    "    'MSE': mean_squared_error(y_test, y_pred_poly),\n",
    "})\n",
    "resultsPOLY"
   ]
  },
  {
   "cell_type": "code",
   "execution_count": 9,
   "metadata": {},
   "outputs": [
    {
     "name": "stdout",
     "output_type": "stream",
     "text": [
      "Average MSE: 2.6378203117753705\n",
      "Average MAE: 1.2561881203799192\n"
     ]
    }
   ],
   "source": [
    "#the cross validation helps deciding the gerelization of the model\n",
    "from sklearn.model_selection import cross_val_score\n",
    "from sklearn.metrics import make_scorer, mean_absolute_error, mean_squared_error\n",
    "polynomial_features = PolynomialFeatures(degree=3)  # Change degree as needed\n",
    "X_poly = polynomial_features.fit_transform(X)\n",
    "\n",
    "mse_scores = cross_val_score(polynomial_model, X_poly,y, cv=5, scoring='neg_mean_squared_error')\n",
    "mae_scores = cross_val_score(polynomial_model, X_poly, y, cv=5, scoring=make_scorer(mean_absolute_error))\n",
    "\n",
    "print(\"Average MSE:\", -np.mean(mse_scores))  \n",
    "print(\"Average MAE:\", np.mean(mae_scores))"
   ]
  },
  {
   "cell_type": "markdown",
   "metadata": {},
   "source": [
    "**Regression using decision trees**"
   ]
  },
  {
   "cell_type": "code",
   "execution_count": null,
   "metadata": {},
   "outputs": [
    {
     "name": "stdout",
     "output_type": "stream",
     "text": [
      "MAE: 1.1928455490704972\n",
      "MSE: 3.2384842297665846\n"
     ]
    }
   ],
   "source": [
    "from sklearn.tree import DecisionTreeRegressor\n",
    "from sklearn.model_selection import train_test_split\n",
    "from sklearn.metrics import mean_absolute_error, mean_squared_error\n",
    "import numpy as np\n",
    "\n",
    "#testing the decision tree model\n",
    "dt_regressor = DecisionTreeRegressor(max_depth=6, random_state=5)  # Adjust max_depth to prevent overfitting\n",
    "dt_regressor.fit(X_train, y_train)\n",
    "y_pred_dt = dt_regressor.predict(X_test)\n",
    "mae = mean_absolute_error(y_test, y_pred_dt)\n",
    "mse = mean_squared_error(y_test, y_pred_dt)\n",
    "\n",
    "\n",
    "print(f\"MAE: {mae}\")\n",
    "print(f\"MSE: {mse}\")\n"
   ]
  },
  {
   "cell_type": "code",
   "execution_count": 83,
   "metadata": {},
   "outputs": [
    {
     "name": "stdout",
     "output_type": "stream",
     "text": [
      "Average MAE: 1.2882642897295362\n",
      "Average MSE: 3.9973016393980365\n"
     ]
    }
   ],
   "source": [
    "#cross validation performance\n",
    "mse_scores = cross_val_score(dt_regressor, X,y, cv=5, scoring='neg_mean_squared_error')\n",
    "mae_scores = cross_val_score(dt_regressor, X, y, cv=5, scoring=make_scorer(mean_absolute_error))\n",
    "\n",
    "print(\"Average MAE:\", np.mean(mae_scores))\n",
    "print(\"Average MSE:\", -np.mean(mse_scores))  \n"
   ]
  },
  {
   "cell_type": "markdown",
   "metadata": {},
   "source": [
    "**Random forests**"
   ]
  },
  {
   "cell_type": "code",
   "execution_count": null,
   "metadata": {},
   "outputs": [
    {
     "name": "stdout",
     "output_type": "stream",
     "text": [
      "MAE: 1.0036993792411915\n",
      "MSE: 1.9342991298902614\n"
     ]
    }
   ],
   "source": [
    "from sklearn.ensemble import RandomForestRegressor\n",
    "\n",
    "#initialize and train\n",
    "rf_regressor = RandomForestRegressor(n_estimators=200, max_depth=6, random_state=5)\n",
    "rf_regressor.fit(X_train, y_train)\n",
    "#Predictions\n",
    "y_pred = rf_regressor.predict(X_test)\n",
    "\n",
    "# Evaluate\n",
    "mse = mean_squared_error(y_test, y_pred)\n",
    "mae = mean_absolute_error(y_test, y_pred)\n",
    "\n",
    "print(\"MAE:\", mae)\n",
    "print(\"MSE:\", mse)\n",
    "\n"
   ]
  },
  {
   "cell_type": "code",
   "execution_count": 80,
   "metadata": {},
   "outputs": [
    {
     "name": "stdout",
     "output_type": "stream",
     "text": [
      "Average MAE (Random Forest): 1.0071432658889945\n"
     ]
    }
   ],
   "source": [
    "#cross validation with Random forests\n",
    "rf_scores = cross_val_score(rf_regressor, X, y, cv=5, scoring=make_scorer(mean_absolute_error))\n",
    "\n",
    "# Print the average MSE\n",
    "print(\"Average MAE (Random Forest):\", np.mean(rf_scores))\n"
   ]
  }
 ],
 "metadata": {
  "kernelspec": {
   "display_name": ".venv",
   "language": "python",
   "name": "python3"
  },
  "language_info": {
   "codemirror_mode": {
    "name": "ipython",
    "version": 3
   },
   "file_extension": ".py",
   "mimetype": "text/x-python",
   "name": "python",
   "nbconvert_exporter": "python",
   "pygments_lexer": "ipython3",
   "version": "3.12.9"
  }
 },
 "nbformat": 4,
 "nbformat_minor": 2
}
